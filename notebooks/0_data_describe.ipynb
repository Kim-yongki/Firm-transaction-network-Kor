{
 "cells": [
  {
   "cell_type": "markdown",
   "metadata": {},
   "source": [
    "## 0. Setting"
   ]
  },
  {
   "cell_type": "code",
   "execution_count": null,
   "metadata": {},
   "outputs": [],
   "source": [
    "import pandas as pd\n",
    "import os\n",
    "import geopandas as gpd\n",
    "import numpy as np\n",
    "from tqdm import tqdm\n",
    "import time\n",
    "import matplotlib.pyplot as plt\n",
    "import random\n",
    "import string\n",
    "\n",
    "# set working directory\n",
    "os.chdir(\"D:/DATA/KEDVAT\")\n"
   ]
  },
  {
   "cell_type": "markdown",
   "metadata": {},
   "source": [
    "# 1. count missing data"
   ]
  },
  {
   "cell_type": "code",
   "execution_count": null,
   "metadata": {},
   "outputs": [],
   "source": [
    "VATRPTD103 = pd.read_csv(\"VATRPTD0103.txt\", sep='|', header=None)\n",
    "VATTXDT0108 = pd.read_csv(\"VATTXDT0108.txt\", sep='|', header=None)\n",
    "VATTXSR0103 = pd.read_csv(\"VATTXSR0103.txt\", sep='|', header=None)\n",
    "\n",
    "chunk_size = 100000000\n",
    "VATTXDT0204 = pd.read_csv(\"VATTXDT0204.txt\", sep = '|', header=None, chunksize=chunk_size)"
   ]
  },
  {
   "cell_type": "code",
   "execution_count": null,
   "metadata": {},
   "outputs": [],
   "source": [
    "df_dict = {\"VATRPTD103\": VATRPTD103, \"VATTXDT0108\" : VATTXDT0108, \"VATTXSR0103\" : VATTXSR0103, \"VATTXDT0204\" : VATTXDT0204}\n",
    "\n",
    "for key in df_dict.keys():\n",
    "    if key == \"VATTXDT0204\":\n",
    "        missing_total = None\n",
    "        for chunk in tqdm(VATTXDT0204, desc = f'chunk in VATTXDT0204'):\n",
    "            chunk_missing = chunk.isna().sum()\n",
    "            if missing_total is None:\n",
    "                missing_total =  chunk_missing\n",
    "            else:\n",
    "                missing_total += chunk_missing\n",
    "\n",
    "        result_df = missing_total.reset_index()\n",
    "        result_df.to_csv(f\"C:/Users/user/Documents/김용기/{key}_missing.csv\")\n",
    "    \n",
    "    data = df_dict[key]\n",
    "    print(f'length: {len(data)}')\n",
    "    data.isna().sum().reset_index().to_csv(f\"C:/Users/user/Documents/김용기/{key}_missing.csv\")"
   ]
  },
  {
   "cell_type": "markdown",
   "metadata": {},
   "source": [
    "# 2. mock data"
   ]
  },
  {
   "cell_type": "code",
   "execution_count": null,
   "metadata": {},
   "outputs": [],
   "source": [
    "n_rows = 10000\n",
    "VATRPTD103 = pd.read_csv(\"VATRPTD0103.txt\", sep='|', header=None, nrows = n_rows)\n",
    "VATRPTD103.columns = ['1_BZNO', '2_BASE_YY', '3_PRD_CCD', '4_CONO_PID', '5_KEDCD', '6_CO_BZNO_CCD', '7_TX_PRD_FROM', '8_TX_PRD_TO', '9_TX_PRD_SUTB_YN', '10_RPTD_CCD', '11_RGSIM_CLS', '12_TTBIL_DLV_AM', '13_BOA_RPT_CR_CARD_CSH_RCPT_AM', '14_BOA_RPT_CR_CARD_CSH_RCPT_AM', '15_TETC_AM', '16_NTAX_TBIL_AM', '17_NTAX_ETC_AM', '18_DIT_EXP_AM_RANGE', '19_VAT_ZTAX_APL_SUM_RANGE', '20_PR_AM', '21_BADB_TICDR_TA', '22_TSTD_SAM', '23_BIL_DLV_AM', '24_SALE_T_AM', '25_GNR_PAM', '26_FASET_PAM', '27_PR_BUY_AM', '28_BUY_BUY_JA_ISS_AM', '29_EDDC_BUY_AM', '30_BUY_AM_SUM', '31_DDC_NAM', '32_DUC_SUM_AM', '33_BIL_RCV_AM', '34_BUY_T_AM', '35_BZNO_SIMSID']\n",
    "\n",
    "VATTXDT0108 = pd.read_csv(\"VATTXDT0108.txt\", sep='|', header=None, nrows = n_rows)\n",
    "VATTXDT0108.columns = ['1_BZNO', '2_BASE_YY', '3_PRD_CCD', '4_SALE_BUY_CCD', '5_VAT_ITM_KCD', '6_VAT_SEQ', '7_CONO_PID', '8_KEDCD', '9_CO_BZNO_CCD', '10_TX_PRD_FROM', '11_TX_PRD_TO ', '12_TX_PRD_SUTB_YN', '13_TXPL_TXRI_RNK', '14_TXRI', '15_TXPL_BZNO', '16_TXPL_PID', '17_TXPL_KEDCD', '18_TXPL_NM', '19_TXPL_TCN', '20_TXPL_TSPPR', '21_TXPL_TTAX_AM', '22_BZNO_SIMSID', '23_TXPL_BZNO_SIMSID']\n",
    "\n",
    "VATTXSR0103 = pd.read_csv(\"VATTXSR0103.txt\", sep='|', header=None, nrows = n_rows)\n",
    "VATTXSR0103.columns = ['1_BZNO', '2_BASE_YY', '3_PRD_CCD', '4_SALE_BUY_CCD', '5_VAT_ITM_KCD', '6_CONO_PID', '7_KEDCD', '8_CO_BZNO_CCD', '9_TX_PRD_FROM', '10_TX_PRD_TO ', '11_TX_PRD_SUTB_YN', '12_TTXPL_CN', '13_TXPL_CN_BZNO', '14_TXPL_CN_BZNO', '15_TXPL_CN_PID', '16_TXPL_CN_KEDCD_ISS_CN', '17_TCN', '18_CN_BZNO', '19_CN_PID', '20_CN_KEDCD_ISS_CN', '21_TSPPR', '22_SPPR_BZNO', '23_SPPR_PID', '24_SPPR_KEDCD_ISS_CN', '25_TTAX_AM', '26_TAX_AM_BZNO', '27_TAX_AM_PID', '28_TAX_AM_KEDCD_ISS_CN', '29_BZNO_SIMSID']\n",
    "\n",
    "VATTXDT0204 = pd.read_csv(\"VATTXDT0204.txt\", sep = '|', header=None, nrows = n_rows)\n",
    "VATTXDT0204.columns = ['1_BZNO', '2_BASE_YY', '3_PRD_CCD', '4_SALE_BUY_CCD', '5_VAT_ITM_KCD', '6_VAT_SEQ', '7_CONO_PID', '8_KEDCD', '9_CO_BZNO_CCD', '10_TX_PRD_FROM', '11_TX_PRD_TO ', '12_TX_PRD_SUTB_YN', '13_TXPL_TXRI_RNK', '14_TXRI', '15_BF_BZC_CD', '16_BZC_CD', '17_TXPL_TCN', '18_TXPL_TSPPR', '19_TXPL_TTAX_AM', '20_BZNO_SIMSID']\n",
    "\n",
    "df_dict = {\"VATRPTD103\": VATRPTD103, \"VATTXDT0108\" : VATTXDT0108, \"VATTXSR0103\" : VATTXSR0103, \"VATTXDT0204\" : VATTXDT0204}\n",
    "\n",
    "# unique values for each columns\n",
    "for key in df_dict.keys():\n",
    "    print(f'\\n\\n{key}')\n",
    "    df = df_dict[key]\n",
    "    for col in df.columns:\n",
    "        print(f'{col}: {len(df[col].unique())}')"
   ]
  },
  {
   "cell_type": "code",
   "execution_count": null,
   "metadata": {},
   "outputs": [],
   "source": [
    "# 0108sample\n",
    "os.makedirs(\"C:/Users/user/Documents/김용기/2025/temp\", exist_ok=True)\n",
    "\n",
    "for ratio in [0.00001, 0.001]:\n",
    "    skip = lambda i: 1 > 0 and (random.random() > ratio)\n",
    "\n",
    "    VATTXDT0108_sampled = pd.read_csv(\"VATTXDT0108.txt\", sep='|', header=None, skiprows= skip)\n",
    "    VATTXDT0108_sampled.to_csv(f\"C:/Users/user/Documents/김용기/2025/temp/VATTXDT0108_sampled_{ratio:.3%}.csv\", index=False)"
   ]
  },
  {
   "cell_type": "code",
   "execution_count": null,
   "metadata": {},
   "outputs": [],
   "source": [
    "for ratio in [0.00001, 0.001]: \n",
    "    df = pd.read_csv(f\"C:/Users/user/Documents/김용기/2025/temp/VATTXDT0108_sampled_{ratio:.3%}.csv\")\n",
    "    df.columns = ['1_BZNO', '2_BASE_YY', '3_PRD_CCD', '4_SALE_BUY_CCD', '5_VAT_ITM_KCD', '6_VAT_SEQ', '7_CONO_PID', '8_KEDCD', '9_CO_BZNO_CCD', '10_TX_PRD_FROM', '11_TX_PRD_TO ', '12_TX_PRD_SUTB_YN', '13_TXPL_TXRI_RNK', '14_TXRI', '15_TXPL_BZNO', '16_TXPL_PID', '17_TXPL_KEDCD', '18_TXPL_NM', '19_TXPL_TCN', '20_TXPL_TSPPR', '21_TXPL_TTAX_AM', '22_BZNO_SIMSID', '23_TXPL_BZNO_SIMSID']\n",
    "\n",
    "    #'1_BZNO', '15_TXPL_BZNO'\n",
    "    cols = ['1_BZNO', '15_TXPL_BZNO']\n",
    "    for col in cols:\n",
    "        uniques = df[col].unique()\n",
    "        def random_string():\n",
    "            return ''.join(random.choices(string.digits, k = 10))\n",
    "        randoms = [random_string()[:5]+ '*****' for _ in uniques]\n",
    "        code_dict = dict(zip(uniques, randoms))\n",
    "        df[col] = df[col].map(code_dict)\n",
    "    del randoms, code_dict\n",
    "\n",
    "    #'22_BZNO_SIMSID', '23_TXPL_BZNO_SIMSID'\n",
    "    def random_string():\n",
    "        return ''.join(random.choices(string.ascii_letters + string.digits, k =10))\n",
    "    uniques = list(set(np.concatenate([df['1_BZNO'], df['15_TXPL_BZNO']])))\n",
    "\n",
    "    randoms = [random_string() for _ in uniques]\n",
    "    code_dict = dict(zip(uniques, randoms))\n",
    "\n",
    "        # randomly replace with None for '15_TXPL_BZNO'\n",
    "    uniques_TXPL = list(set(df['15_TXPL_BZNO']) - set(df['1_BZNO']))\n",
    "    eligible = [k for k in uniques_TXPL if k in code_dict]\n",
    "    n = len(df['15_TXPL_BZNO'].unique())\n",
    "    k = int(n*0.47)\n",
    "    to_None = random.sample(uniques_TXPL, k = min(k, len(eligible)))\n",
    "    for key in to_None:\n",
    "        code_dict[key] = None\n",
    "\n",
    "    df['22_BZNO_SIMSID'] = df['1_BZNO'].map(code_dict)\n",
    "    df['23_TXPL_BZNO_SIMSID'] = df['15_TXPL_BZNO'].map(code_dict)\n",
    "    del randoms, code_dict, to_None\n",
    "\n",
    "\n",
    "    #'2_BASE_YY', '4_SALE_BUY_CCD', \n",
    "    cols = ['2_BASE_YY', '4_SALE_BUY_CCD', '5_VAT_ITM_KCD', '9_CO_BZNO_CCD', '6_VAT_SEQ', '13_TXPL_TXRI_RNK', '14_TXRI']\n",
    "    for col in cols:\n",
    "        randoms = df[col].copy()\n",
    "        random.shuffle(randoms)\n",
    "        df[col] = randoms\n",
    "    del randoms\n",
    "\n",
    "\n",
    "    #'3_PRD_CCD', '10_TX_PRD_FROM', '11_TX_PRD_TO ', '12_TX_PRD_SUTB_YN'\n",
    "    cols = ['3_PRD_CCD', '10_TX_PRD_FROM', '11_TX_PRD_TO ', '12_TX_PRD_SUTB_YN']\n",
    "    randoms = list(df[cols].itertuples(index=False, name=None))\n",
    "    random.shuffle(randoms)\n",
    "    unzipped = list(zip(*randoms))\n",
    "    for i, col in enumerate(cols):\n",
    "        df[col] = unzipped[i]\n",
    "    del randoms, unzipped\n",
    "\n",
    "\n",
    "    #'19_TXPL_TCN', '20_TXPL_TSPPR', '21_TXPL_TTAX_AM'\n",
    "    cols = ['19_TXPL_TCN', '20_TXPL_TSPPR', '21_TXPL_TTAX_AM']\n",
    "    randoms = list(df[cols].itertuples(index=False, name=None))\n",
    "    random.shuffle(randoms)\n",
    "    unzipped = list(zip(*randoms))\n",
    "    for i, col in enumerate(cols):\n",
    "        df[col] = unzipped[i]\n",
    "    del randoms, unzipped\n",
    "\n",
    "    df.to_csv(f\"C:/Users/user/Documents/김용기/2025/temp/VATTXDT0108_sampled_{ratio:.3%}_mock.csv\", index=False)"
   ]
  }
 ],
 "metadata": {
  "kernelspec": {
   "display_name": "firm-transaction-network",
   "language": "python",
   "name": "python3"
  },
  "language_info": {
   "codemirror_mode": {
    "name": "ipython",
    "version": 3
   },
   "file_extension": ".py",
   "mimetype": "text/x-python",
   "name": "python",
   "nbconvert_exporter": "python",
   "pygments_lexer": "ipython3",
   "version": "3.11.13"
  }
 },
 "nbformat": 4,
 "nbformat_minor": 2
}
